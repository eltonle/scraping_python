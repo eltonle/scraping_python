{
 "cells": [
  {
   "cell_type": "markdown",
   "id": "826a3b21",
   "metadata": {},
   "source": [
    "# les bibiotheques python pour effectuer le web scraping\n",
    "###  la bibliotheque Request qui permet d'effectuer les requete et recuperer le html\n",
    "### bibliotheque BeautifulSoup(un parseur qui permet d'analyse le code html)  qui permet d'analyse le HTML et de naviguer dans le DOM\n"
   ]
  },
  {
   "cell_type": "code",
   "execution_count": null,
   "id": "e6d5781d",
   "metadata": {},
   "outputs": [],
   "source": []
  }
 ],
 "metadata": {
  "kernelspec": {
   "display_name": "Python 3 (ipykernel)",
   "language": "python",
   "name": "python3"
  }
 },
 "nbformat": 4,
 "nbformat_minor": 5
}
